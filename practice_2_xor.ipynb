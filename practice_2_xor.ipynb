{
  "nbformat": 4,
  "nbformat_minor": 0,
  "metadata": {
    "colab": {
      "name": "practice_2_xor.ipynb",
      "provenance": [],
      "collapsed_sections": []
    },
    "kernelspec": {
      "name": "python3",
      "display_name": "Python 3"
    }
  },
  "cells": [
    {
      "cell_type": "code",
      "metadata": {
        "id": "co6_qqv3JWfw",
        "colab_type": "code",
        "colab": {}
      },
      "source": [
        "# https://gist.github.com/user01/68514db1127eb007f24d28bfd11dd60e\n",
        "\n",
        "import torch\n",
        "from torch.autograd import Variable\n",
        "import torch.nn as nn\n",
        "import torch.nn.functional as F\n",
        "import torch.optim as optim"
      ],
      "execution_count": 0,
      "outputs": []
    },
    {
      "cell_type": "markdown",
      "metadata": {
        "id": "_DkK94aKKJSo",
        "colab_type": "text"
      },
      "source": [
        "Создаём содель из двух полносвязанных слоях."
      ]
    },
    {
      "cell_type": "code",
      "metadata": {
        "id": "j06jZZEqJh6a",
        "colab_type": "code",
        "colab": {}
      },
      "source": [
        "class Net(nn.Module):\n",
        "\n",
        "    def __init__(self):\n",
        "        super(Net, self).__init__()\n",
        "        self.fc1 = nn.Linear(2, 3, True)\n",
        "        self.fc2 = nn.Linear(3, 1, True)\n",
        "\n",
        "    def forward(self, x):\n",
        "        x = F.sigmoid(self.fc1(x))\n",
        "        x = self.fc2(x)\n",
        "        return x"
      ],
      "execution_count": 0,
      "outputs": []
    },
    {
      "cell_type": "code",
      "metadata": {
        "id": "89GjxYyYJmTv",
        "colab_type": "code",
        "colab": {}
      },
      "source": [
        "net = Net()\n",
        "inputs = list(map(lambda s: Variable(torch.Tensor([s])), [\n",
        "    [0, 0],\n",
        "    [0, 1],\n",
        "    [1, 0],\n",
        "    [1, 1]\n",
        "]))\n",
        "targets = list(map(lambda s: Variable(torch.Tensor([s])), [\n",
        "    [0],\n",
        "    [1],\n",
        "    [1],\n",
        "    [0]\n",
        "]))\n",
        "\n",
        "\n",
        "criterion = nn.MSELoss()\n",
        "optimizer = optim.SGD(net.parameters(), lr=0.01)"
      ],
      "execution_count": 0,
      "outputs": []
    },
    {
      "cell_type": "code",
      "metadata": {
        "id": "VAcxiV17Jrui",
        "colab_type": "code",
        "colab": {
          "base_uri": "https://localhost:8080/",
          "height": 85
        },
        "outputId": "b917064c-9642-44f4-c4dd-5c9b67dc6db9"
      },
      "source": [
        "EPOCHS_TO_TRAIN = 100000\n",
        "print(\"Training loop:\")\n",
        "for idx in range(0, EPOCHS_TO_TRAIN):\n",
        "    loss_c = 0\n",
        "    for input, target in zip(inputs, targets):\n",
        "        optimizer.zero_grad()   # zero the gradient buffers\n",
        "        output = net(input)\n",
        "        loss = criterion(output, target)\n",
        "        loss.backward(); loss_c+=loss\n",
        "        optimizer.step()    # Does the update\n",
        "        \n",
        "    loss_a = loss_c/len(inputs)\n",
        "    if loss_a<0.0001: \n",
        "        print(\"idx:\", idx)\n",
        "        break;"
      ],
      "execution_count": 4,
      "outputs": [
        {
          "output_type": "stream",
          "text": [
            "Training loop:\n"
          ],
          "name": "stdout"
        },
        {
          "output_type": "stream",
          "text": [
            "/usr/local/lib/python3.6/dist-packages/torch/nn/functional.py:1351: UserWarning: nn.functional.sigmoid is deprecated. Use torch.sigmoid instead.\n",
            "  warnings.warn(\"nn.functional.sigmoid is deprecated. Use torch.sigmoid instead.\")\n"
          ],
          "name": "stderr"
        },
        {
          "output_type": "stream",
          "text": [
            "idx: 5999\n"
          ],
          "name": "stdout"
        }
      ]
    },
    {
      "cell_type": "code",
      "metadata": {
        "id": "3DCdHMFqJ1li",
        "colab_type": "code",
        "colab": {
          "base_uri": "https://localhost:8080/",
          "height": 153
        },
        "outputId": "deedd24e-11bf-4b54-989c-35523f688f01"
      },
      "source": [
        "print(\"\")\n",
        "print(\"Final results:\")\n",
        "for input, target in zip(inputs, targets):\n",
        "    output = net(input)\n",
        "    print(\"Input:[{},{}] Target:[{}] Predicted:[{}] Error:[{}]\".format(\n",
        "        int(input.data.numpy()[0][0]),\n",
        "        int(input.data.numpy()[0][1]),\n",
        "        int(target.data.numpy()[0]),\n",
        "        round(float(output.data.numpy()[0]), 4),\n",
        "        round(float(abs(target.data.numpy()[0] - output.data.numpy())), 4)\n",
        "    ))"
      ],
      "execution_count": 5,
      "outputs": [
        {
          "output_type": "stream",
          "text": [
            "\n",
            "Final results:\n",
            "Input:[0,0] Target:[0] Predicted:[0.01] Error:[0.01]\n",
            "Input:[0,1] Target:[1] Predicted:[0.9919] Error:[0.0081]\n",
            "Input:[1,0] Target:[1] Predicted:[0.9896] Error:[0.0104]\n",
            "Input:[1,1] Target:[0] Predicted:[0.0102] Error:[0.0102]\n"
          ],
          "name": "stdout"
        },
        {
          "output_type": "stream",
          "text": [
            "/usr/local/lib/python3.6/dist-packages/torch/nn/functional.py:1351: UserWarning: nn.functional.sigmoid is deprecated. Use torch.sigmoid instead.\n",
            "  warnings.warn(\"nn.functional.sigmoid is deprecated. Use torch.sigmoid instead.\")\n"
          ],
          "name": "stderr"
        }
      ]
    }
  ]
}