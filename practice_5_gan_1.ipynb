{
  "nbformat": 4,
  "nbformat_minor": 0,
  "metadata": {
    "kernelspec": {
      "name": "python3",
      "display_name": "Python 3"
    },
    "language_info": {
      "codemirror_mode": {
        "name": "ipython",
        "version": 3
      },
      "file_extension": ".py",
      "mimetype": "text/x-python",
      "name": "python",
      "nbconvert_exporter": "python",
      "pygments_lexer": "ipython3",
      "version": "3.5.4"
    },
    "colab": {
      "name": "pytorch-mnist-GAN.ipynb",
      "provenance": []
    },
    "accelerator": "GPU",
    "widgets": {
      "application/vnd.jupyter.widget-state+json": {
        "2a1905552f7e4defa8a71ccc8569afce": {
          "model_module": "@jupyter-widgets/controls",
          "model_name": "HBoxModel",
          "state": {
            "_view_name": "HBoxView",
            "_dom_classes": [],
            "_model_name": "HBoxModel",
            "_view_module": "@jupyter-widgets/controls",
            "_model_module_version": "1.5.0",
            "_view_count": null,
            "_view_module_version": "1.5.0",
            "box_style": "",
            "layout": "IPY_MODEL_c95b34ec8b394b9a96f91e81e72e9f16",
            "_model_module": "@jupyter-widgets/controls",
            "children": [
              "IPY_MODEL_e3a4e81ec75a453ebd96aa5643f775d7",
              "IPY_MODEL_070da0665edf486181b6c4d30011806a"
            ]
          }
        },
        "c95b34ec8b394b9a96f91e81e72e9f16": {
          "model_module": "@jupyter-widgets/base",
          "model_name": "LayoutModel",
          "state": {
            "_view_name": "LayoutView",
            "grid_template_rows": null,
            "right": null,
            "justify_content": null,
            "_view_module": "@jupyter-widgets/base",
            "overflow": null,
            "_model_module_version": "1.2.0",
            "_view_count": null,
            "flex_flow": null,
            "width": null,
            "min_width": null,
            "border": null,
            "align_items": null,
            "bottom": null,
            "_model_module": "@jupyter-widgets/base",
            "top": null,
            "grid_column": null,
            "overflow_y": null,
            "overflow_x": null,
            "grid_auto_flow": null,
            "grid_area": null,
            "grid_template_columns": null,
            "flex": null,
            "_model_name": "LayoutModel",
            "justify_items": null,
            "grid_row": null,
            "max_height": null,
            "align_content": null,
            "visibility": null,
            "align_self": null,
            "height": null,
            "min_height": null,
            "padding": null,
            "grid_auto_rows": null,
            "grid_gap": null,
            "max_width": null,
            "order": null,
            "_view_module_version": "1.2.0",
            "grid_template_areas": null,
            "object_position": null,
            "object_fit": null,
            "grid_auto_columns": null,
            "margin": null,
            "display": null,
            "left": null
          }
        },
        "e3a4e81ec75a453ebd96aa5643f775d7": {
          "model_module": "@jupyter-widgets/controls",
          "model_name": "IntProgressModel",
          "state": {
            "_view_name": "ProgressView",
            "style": "IPY_MODEL_b2f5615037534232bfe4b8129c46cabc",
            "_dom_classes": [],
            "description": "",
            "_model_name": "IntProgressModel",
            "bar_style": "success",
            "max": 1,
            "_view_module": "@jupyter-widgets/controls",
            "_model_module_version": "1.5.0",
            "value": 1,
            "_view_count": null,
            "_view_module_version": "1.5.0",
            "orientation": "horizontal",
            "min": 0,
            "description_tooltip": null,
            "_model_module": "@jupyter-widgets/controls",
            "layout": "IPY_MODEL_5716974a0a634ccfa10f6405b7cc5217"
          }
        },
        "070da0665edf486181b6c4d30011806a": {
          "model_module": "@jupyter-widgets/controls",
          "model_name": "HTMLModel",
          "state": {
            "_view_name": "HTMLView",
            "style": "IPY_MODEL_b41efaa1c4334e1aa3edce0a4285e569",
            "_dom_classes": [],
            "description": "",
            "_model_name": "HTMLModel",
            "placeholder": "​",
            "_view_module": "@jupyter-widgets/controls",
            "_model_module_version": "1.5.0",
            "value": "9920512it [00:05, 1829142.76it/s]",
            "_view_count": null,
            "_view_module_version": "1.5.0",
            "description_tooltip": null,
            "_model_module": "@jupyter-widgets/controls",
            "layout": "IPY_MODEL_20d1a9b2d29549c2bec9b1f0f52cbe96"
          }
        },
        "b2f5615037534232bfe4b8129c46cabc": {
          "model_module": "@jupyter-widgets/controls",
          "model_name": "ProgressStyleModel",
          "state": {
            "_view_name": "StyleView",
            "_model_name": "ProgressStyleModel",
            "description_width": "",
            "_view_module": "@jupyter-widgets/base",
            "_model_module_version": "1.5.0",
            "_view_count": null,
            "_view_module_version": "1.2.0",
            "bar_color": null,
            "_model_module": "@jupyter-widgets/controls"
          }
        },
        "5716974a0a634ccfa10f6405b7cc5217": {
          "model_module": "@jupyter-widgets/base",
          "model_name": "LayoutModel",
          "state": {
            "_view_name": "LayoutView",
            "grid_template_rows": null,
            "right": null,
            "justify_content": null,
            "_view_module": "@jupyter-widgets/base",
            "overflow": null,
            "_model_module_version": "1.2.0",
            "_view_count": null,
            "flex_flow": null,
            "width": null,
            "min_width": null,
            "border": null,
            "align_items": null,
            "bottom": null,
            "_model_module": "@jupyter-widgets/base",
            "top": null,
            "grid_column": null,
            "overflow_y": null,
            "overflow_x": null,
            "grid_auto_flow": null,
            "grid_area": null,
            "grid_template_columns": null,
            "flex": null,
            "_model_name": "LayoutModel",
            "justify_items": null,
            "grid_row": null,
            "max_height": null,
            "align_content": null,
            "visibility": null,
            "align_self": null,
            "height": null,
            "min_height": null,
            "padding": null,
            "grid_auto_rows": null,
            "grid_gap": null,
            "max_width": null,
            "order": null,
            "_view_module_version": "1.2.0",
            "grid_template_areas": null,
            "object_position": null,
            "object_fit": null,
            "grid_auto_columns": null,
            "margin": null,
            "display": null,
            "left": null
          }
        },
        "b41efaa1c4334e1aa3edce0a4285e569": {
          "model_module": "@jupyter-widgets/controls",
          "model_name": "DescriptionStyleModel",
          "state": {
            "_view_name": "StyleView",
            "_model_name": "DescriptionStyleModel",
            "description_width": "",
            "_view_module": "@jupyter-widgets/base",
            "_model_module_version": "1.5.0",
            "_view_count": null,
            "_view_module_version": "1.2.0",
            "_model_module": "@jupyter-widgets/controls"
          }
        },
        "20d1a9b2d29549c2bec9b1f0f52cbe96": {
          "model_module": "@jupyter-widgets/base",
          "model_name": "LayoutModel",
          "state": {
            "_view_name": "LayoutView",
            "grid_template_rows": null,
            "right": null,
            "justify_content": null,
            "_view_module": "@jupyter-widgets/base",
            "overflow": null,
            "_model_module_version": "1.2.0",
            "_view_count": null,
            "flex_flow": null,
            "width": null,
            "min_width": null,
            "border": null,
            "align_items": null,
            "bottom": null,
            "_model_module": "@jupyter-widgets/base",
            "top": null,
            "grid_column": null,
            "overflow_y": null,
            "overflow_x": null,
            "grid_auto_flow": null,
            "grid_area": null,
            "grid_template_columns": null,
            "flex": null,
            "_model_name": "LayoutModel",
            "justify_items": null,
            "grid_row": null,
            "max_height": null,
            "align_content": null,
            "visibility": null,
            "align_self": null,
            "height": null,
            "min_height": null,
            "padding": null,
            "grid_auto_rows": null,
            "grid_gap": null,
            "max_width": null,
            "order": null,
            "_view_module_version": "1.2.0",
            "grid_template_areas": null,
            "object_position": null,
            "object_fit": null,
            "grid_auto_columns": null,
            "margin": null,
            "display": null,
            "left": null
          }
        },
        "055dfe302fba40529deb226f6b2aca94": {
          "model_module": "@jupyter-widgets/controls",
          "model_name": "HBoxModel",
          "state": {
            "_view_name": "HBoxView",
            "_dom_classes": [],
            "_model_name": "HBoxModel",
            "_view_module": "@jupyter-widgets/controls",
            "_model_module_version": "1.5.0",
            "_view_count": null,
            "_view_module_version": "1.5.0",
            "box_style": "",
            "layout": "IPY_MODEL_3475bf4c670846a3b19051cda69ac3e0",
            "_model_module": "@jupyter-widgets/controls",
            "children": [
              "IPY_MODEL_b49e0270520242bfa8d80ab3cfff601f",
              "IPY_MODEL_081448dcf76f417a960f719b8e660fc0"
            ]
          }
        },
        "3475bf4c670846a3b19051cda69ac3e0": {
          "model_module": "@jupyter-widgets/base",
          "model_name": "LayoutModel",
          "state": {
            "_view_name": "LayoutView",
            "grid_template_rows": null,
            "right": null,
            "justify_content": null,
            "_view_module": "@jupyter-widgets/base",
            "overflow": null,
            "_model_module_version": "1.2.0",
            "_view_count": null,
            "flex_flow": null,
            "width": null,
            "min_width": null,
            "border": null,
            "align_items": null,
            "bottom": null,
            "_model_module": "@jupyter-widgets/base",
            "top": null,
            "grid_column": null,
            "overflow_y": null,
            "overflow_x": null,
            "grid_auto_flow": null,
            "grid_area": null,
            "grid_template_columns": null,
            "flex": null,
            "_model_name": "LayoutModel",
            "justify_items": null,
            "grid_row": null,
            "max_height": null,
            "align_content": null,
            "visibility": null,
            "align_self": null,
            "height": null,
            "min_height": null,
            "padding": null,
            "grid_auto_rows": null,
            "grid_gap": null,
            "max_width": null,
            "order": null,
            "_view_module_version": "1.2.0",
            "grid_template_areas": null,
            "object_position": null,
            "object_fit": null,
            "grid_auto_columns": null,
            "margin": null,
            "display": null,
            "left": null
          }
        },
        "b49e0270520242bfa8d80ab3cfff601f": {
          "model_module": "@jupyter-widgets/controls",
          "model_name": "IntProgressModel",
          "state": {
            "_view_name": "ProgressView",
            "style": "IPY_MODEL_1e255270d99a45209af5bfcfaa8c62e7",
            "_dom_classes": [],
            "description": "",
            "_model_name": "IntProgressModel",
            "bar_style": "success",
            "max": 1,
            "_view_module": "@jupyter-widgets/controls",
            "_model_module_version": "1.5.0",
            "value": 1,
            "_view_count": null,
            "_view_module_version": "1.5.0",
            "orientation": "horizontal",
            "min": 0,
            "description_tooltip": null,
            "_model_module": "@jupyter-widgets/controls",
            "layout": "IPY_MODEL_e04da945f1c4494988b55c5451a12114"
          }
        },
        "081448dcf76f417a960f719b8e660fc0": {
          "model_module": "@jupyter-widgets/controls",
          "model_name": "HTMLModel",
          "state": {
            "_view_name": "HTMLView",
            "style": "IPY_MODEL_aacb47d4de074c31ab0e9a64c8188a66",
            "_dom_classes": [],
            "description": "",
            "_model_name": "HTMLModel",
            "placeholder": "​",
            "_view_module": "@jupyter-widgets/controls",
            "_model_module_version": "1.5.0",
            "value": "32768it [00:00, 205965.85it/s]",
            "_view_count": null,
            "_view_module_version": "1.5.0",
            "description_tooltip": null,
            "_model_module": "@jupyter-widgets/controls",
            "layout": "IPY_MODEL_144a72fc9d704a948a43fbab6599b991"
          }
        },
        "1e255270d99a45209af5bfcfaa8c62e7": {
          "model_module": "@jupyter-widgets/controls",
          "model_name": "ProgressStyleModel",
          "state": {
            "_view_name": "StyleView",
            "_model_name": "ProgressStyleModel",
            "description_width": "",
            "_view_module": "@jupyter-widgets/base",
            "_model_module_version": "1.5.0",
            "_view_count": null,
            "_view_module_version": "1.2.0",
            "bar_color": null,
            "_model_module": "@jupyter-widgets/controls"
          }
        },
        "e04da945f1c4494988b55c5451a12114": {
          "model_module": "@jupyter-widgets/base",
          "model_name": "LayoutModel",
          "state": {
            "_view_name": "LayoutView",
            "grid_template_rows": null,
            "right": null,
            "justify_content": null,
            "_view_module": "@jupyter-widgets/base",
            "overflow": null,
            "_model_module_version": "1.2.0",
            "_view_count": null,
            "flex_flow": null,
            "width": null,
            "min_width": null,
            "border": null,
            "align_items": null,
            "bottom": null,
            "_model_module": "@jupyter-widgets/base",
            "top": null,
            "grid_column": null,
            "overflow_y": null,
            "overflow_x": null,
            "grid_auto_flow": null,
            "grid_area": null,
            "grid_template_columns": null,
            "flex": null,
            "_model_name": "LayoutModel",
            "justify_items": null,
            "grid_row": null,
            "max_height": null,
            "align_content": null,
            "visibility": null,
            "align_self": null,
            "height": null,
            "min_height": null,
            "padding": null,
            "grid_auto_rows": null,
            "grid_gap": null,
            "max_width": null,
            "order": null,
            "_view_module_version": "1.2.0",
            "grid_template_areas": null,
            "object_position": null,
            "object_fit": null,
            "grid_auto_columns": null,
            "margin": null,
            "display": null,
            "left": null
          }
        },
        "aacb47d4de074c31ab0e9a64c8188a66": {
          "model_module": "@jupyter-widgets/controls",
          "model_name": "DescriptionStyleModel",
          "state": {
            "_view_name": "StyleView",
            "_model_name": "DescriptionStyleModel",
            "description_width": "",
            "_view_module": "@jupyter-widgets/base",
            "_model_module_version": "1.5.0",
            "_view_count": null,
            "_view_module_version": "1.2.0",
            "_model_module": "@jupyter-widgets/controls"
          }
        },
        "144a72fc9d704a948a43fbab6599b991": {
          "model_module": "@jupyter-widgets/base",
          "model_name": "LayoutModel",
          "state": {
            "_view_name": "LayoutView",
            "grid_template_rows": null,
            "right": null,
            "justify_content": null,
            "_view_module": "@jupyter-widgets/base",
            "overflow": null,
            "_model_module_version": "1.2.0",
            "_view_count": null,
            "flex_flow": null,
            "width": null,
            "min_width": null,
            "border": null,
            "align_items": null,
            "bottom": null,
            "_model_module": "@jupyter-widgets/base",
            "top": null,
            "grid_column": null,
            "overflow_y": null,
            "overflow_x": null,
            "grid_auto_flow": null,
            "grid_area": null,
            "grid_template_columns": null,
            "flex": null,
            "_model_name": "LayoutModel",
            "justify_items": null,
            "grid_row": null,
            "max_height": null,
            "align_content": null,
            "visibility": null,
            "align_self": null,
            "height": null,
            "min_height": null,
            "padding": null,
            "grid_auto_rows": null,
            "grid_gap": null,
            "max_width": null,
            "order": null,
            "_view_module_version": "1.2.0",
            "grid_template_areas": null,
            "object_position": null,
            "object_fit": null,
            "grid_auto_columns": null,
            "margin": null,
            "display": null,
            "left": null
          }
        },
        "8069423839304f89b74c91ccffa5aa7b": {
          "model_module": "@jupyter-widgets/controls",
          "model_name": "HBoxModel",
          "state": {
            "_view_name": "HBoxView",
            "_dom_classes": [],
            "_model_name": "HBoxModel",
            "_view_module": "@jupyter-widgets/controls",
            "_model_module_version": "1.5.0",
            "_view_count": null,
            "_view_module_version": "1.5.0",
            "box_style": "",
            "layout": "IPY_MODEL_416b1e70b10d4a69888395d89d55e1dc",
            "_model_module": "@jupyter-widgets/controls",
            "children": [
              "IPY_MODEL_af8bae5bb7ce41c78eb97f97d137e8ea",
              "IPY_MODEL_3002d7ff5d9a4101b0935e96a31a52b8"
            ]
          }
        },
        "416b1e70b10d4a69888395d89d55e1dc": {
          "model_module": "@jupyter-widgets/base",
          "model_name": "LayoutModel",
          "state": {
            "_view_name": "LayoutView",
            "grid_template_rows": null,
            "right": null,
            "justify_content": null,
            "_view_module": "@jupyter-widgets/base",
            "overflow": null,
            "_model_module_version": "1.2.0",
            "_view_count": null,
            "flex_flow": null,
            "width": null,
            "min_width": null,
            "border": null,
            "align_items": null,
            "bottom": null,
            "_model_module": "@jupyter-widgets/base",
            "top": null,
            "grid_column": null,
            "overflow_y": null,
            "overflow_x": null,
            "grid_auto_flow": null,
            "grid_area": null,
            "grid_template_columns": null,
            "flex": null,
            "_model_name": "LayoutModel",
            "justify_items": null,
            "grid_row": null,
            "max_height": null,
            "align_content": null,
            "visibility": null,
            "align_self": null,
            "height": null,
            "min_height": null,
            "padding": null,
            "grid_auto_rows": null,
            "grid_gap": null,
            "max_width": null,
            "order": null,
            "_view_module_version": "1.2.0",
            "grid_template_areas": null,
            "object_position": null,
            "object_fit": null,
            "grid_auto_columns": null,
            "margin": null,
            "display": null,
            "left": null
          }
        },
        "af8bae5bb7ce41c78eb97f97d137e8ea": {
          "model_module": "@jupyter-widgets/controls",
          "model_name": "IntProgressModel",
          "state": {
            "_view_name": "ProgressView",
            "style": "IPY_MODEL_28833b4f31764209bc08da770135c0bc",
            "_dom_classes": [],
            "description": "",
            "_model_name": "IntProgressModel",
            "bar_style": "success",
            "max": 1,
            "_view_module": "@jupyter-widgets/controls",
            "_model_module_version": "1.5.0",
            "value": 1,
            "_view_count": null,
            "_view_module_version": "1.5.0",
            "orientation": "horizontal",
            "min": 0,
            "description_tooltip": null,
            "_model_module": "@jupyter-widgets/controls",
            "layout": "IPY_MODEL_ae5b99ccceda4ba7af19c4e2e00dcae3"
          }
        },
        "3002d7ff5d9a4101b0935e96a31a52b8": {
          "model_module": "@jupyter-widgets/controls",
          "model_name": "HTMLModel",
          "state": {
            "_view_name": "HTMLView",
            "style": "IPY_MODEL_f4dc9d34f7444749b0204b5e34d1d781",
            "_dom_classes": [],
            "description": "",
            "_model_name": "HTMLModel",
            "placeholder": "​",
            "_view_module": "@jupyter-widgets/controls",
            "_model_module_version": "1.5.0",
            "value": "1654784it [00:00, 6652092.72it/s]",
            "_view_count": null,
            "_view_module_version": "1.5.0",
            "description_tooltip": null,
            "_model_module": "@jupyter-widgets/controls",
            "layout": "IPY_MODEL_e125f8c2b83a43fe820d0dfdd404e0d6"
          }
        },
        "28833b4f31764209bc08da770135c0bc": {
          "model_module": "@jupyter-widgets/controls",
          "model_name": "ProgressStyleModel",
          "state": {
            "_view_name": "StyleView",
            "_model_name": "ProgressStyleModel",
            "description_width": "",
            "_view_module": "@jupyter-widgets/base",
            "_model_module_version": "1.5.0",
            "_view_count": null,
            "_view_module_version": "1.2.0",
            "bar_color": null,
            "_model_module": "@jupyter-widgets/controls"
          }
        },
        "ae5b99ccceda4ba7af19c4e2e00dcae3": {
          "model_module": "@jupyter-widgets/base",
          "model_name": "LayoutModel",
          "state": {
            "_view_name": "LayoutView",
            "grid_template_rows": null,
            "right": null,
            "justify_content": null,
            "_view_module": "@jupyter-widgets/base",
            "overflow": null,
            "_model_module_version": "1.2.0",
            "_view_count": null,
            "flex_flow": null,
            "width": null,
            "min_width": null,
            "border": null,
            "align_items": null,
            "bottom": null,
            "_model_module": "@jupyter-widgets/base",
            "top": null,
            "grid_column": null,
            "overflow_y": null,
            "overflow_x": null,
            "grid_auto_flow": null,
            "grid_area": null,
            "grid_template_columns": null,
            "flex": null,
            "_model_name": "LayoutModel",
            "justify_items": null,
            "grid_row": null,
            "max_height": null,
            "align_content": null,
            "visibility": null,
            "align_self": null,
            "height": null,
            "min_height": null,
            "padding": null,
            "grid_auto_rows": null,
            "grid_gap": null,
            "max_width": null,
            "order": null,
            "_view_module_version": "1.2.0",
            "grid_template_areas": null,
            "object_position": null,
            "object_fit": null,
            "grid_auto_columns": null,
            "margin": null,
            "display": null,
            "left": null
          }
        },
        "f4dc9d34f7444749b0204b5e34d1d781": {
          "model_module": "@jupyter-widgets/controls",
          "model_name": "DescriptionStyleModel",
          "state": {
            "_view_name": "StyleView",
            "_model_name": "DescriptionStyleModel",
            "description_width": "",
            "_view_module": "@jupyter-widgets/base",
            "_model_module_version": "1.5.0",
            "_view_count": null,
            "_view_module_version": "1.2.0",
            "_model_module": "@jupyter-widgets/controls"
          }
        },
        "e125f8c2b83a43fe820d0dfdd404e0d6": {
          "model_module": "@jupyter-widgets/base",
          "model_name": "LayoutModel",
          "state": {
            "_view_name": "LayoutView",
            "grid_template_rows": null,
            "right": null,
            "justify_content": null,
            "_view_module": "@jupyter-widgets/base",
            "overflow": null,
            "_model_module_version": "1.2.0",
            "_view_count": null,
            "flex_flow": null,
            "width": null,
            "min_width": null,
            "border": null,
            "align_items": null,
            "bottom": null,
            "_model_module": "@jupyter-widgets/base",
            "top": null,
            "grid_column": null,
            "overflow_y": null,
            "overflow_x": null,
            "grid_auto_flow": null,
            "grid_area": null,
            "grid_template_columns": null,
            "flex": null,
            "_model_name": "LayoutModel",
            "justify_items": null,
            "grid_row": null,
            "max_height": null,
            "align_content": null,
            "visibility": null,
            "align_self": null,
            "height": null,
            "min_height": null,
            "padding": null,
            "grid_auto_rows": null,
            "grid_gap": null,
            "max_width": null,
            "order": null,
            "_view_module_version": "1.2.0",
            "grid_template_areas": null,
            "object_position": null,
            "object_fit": null,
            "grid_auto_columns": null,
            "margin": null,
            "display": null,
            "left": null
          }
        },
        "57b4d565c44f466bbc45da389d203293": {
          "model_module": "@jupyter-widgets/controls",
          "model_name": "HBoxModel",
          "state": {
            "_view_name": "HBoxView",
            "_dom_classes": [],
            "_model_name": "HBoxModel",
            "_view_module": "@jupyter-widgets/controls",
            "_model_module_version": "1.5.0",
            "_view_count": null,
            "_view_module_version": "1.5.0",
            "box_style": "",
            "layout": "IPY_MODEL_d9b47e727cfd4f77922ab06fb59557e6",
            "_model_module": "@jupyter-widgets/controls",
            "children": [
              "IPY_MODEL_ae127cc6c8b9485cb456bb2c61026ec5",
              "IPY_MODEL_991910d5919a478fbd2b1d23c27250f7"
            ]
          }
        },
        "d9b47e727cfd4f77922ab06fb59557e6": {
          "model_module": "@jupyter-widgets/base",
          "model_name": "LayoutModel",
          "state": {
            "_view_name": "LayoutView",
            "grid_template_rows": null,
            "right": null,
            "justify_content": null,
            "_view_module": "@jupyter-widgets/base",
            "overflow": null,
            "_model_module_version": "1.2.0",
            "_view_count": null,
            "flex_flow": null,
            "width": null,
            "min_width": null,
            "border": null,
            "align_items": null,
            "bottom": null,
            "_model_module": "@jupyter-widgets/base",
            "top": null,
            "grid_column": null,
            "overflow_y": null,
            "overflow_x": null,
            "grid_auto_flow": null,
            "grid_area": null,
            "grid_template_columns": null,
            "flex": null,
            "_model_name": "LayoutModel",
            "justify_items": null,
            "grid_row": null,
            "max_height": null,
            "align_content": null,
            "visibility": null,
            "align_self": null,
            "height": null,
            "min_height": null,
            "padding": null,
            "grid_auto_rows": null,
            "grid_gap": null,
            "max_width": null,
            "order": null,
            "_view_module_version": "1.2.0",
            "grid_template_areas": null,
            "object_position": null,
            "object_fit": null,
            "grid_auto_columns": null,
            "margin": null,
            "display": null,
            "left": null
          }
        },
        "ae127cc6c8b9485cb456bb2c61026ec5": {
          "model_module": "@jupyter-widgets/controls",
          "model_name": "IntProgressModel",
          "state": {
            "_view_name": "ProgressView",
            "style": "IPY_MODEL_71c15ab0002c49c1b05d0d5d9a0079fb",
            "_dom_classes": [],
            "description": "",
            "_model_name": "IntProgressModel",
            "bar_style": "success",
            "max": 1,
            "_view_module": "@jupyter-widgets/controls",
            "_model_module_version": "1.5.0",
            "value": 1,
            "_view_count": null,
            "_view_module_version": "1.5.0",
            "orientation": "horizontal",
            "min": 0,
            "description_tooltip": null,
            "_model_module": "@jupyter-widgets/controls",
            "layout": "IPY_MODEL_226a0fdc85e44ddeb3e5e51238dc186e"
          }
        },
        "991910d5919a478fbd2b1d23c27250f7": {
          "model_module": "@jupyter-widgets/controls",
          "model_name": "HTMLModel",
          "state": {
            "_view_name": "HTMLView",
            "style": "IPY_MODEL_f2379b41023d427dadcbb0df444b44a0",
            "_dom_classes": [],
            "description": "",
            "_model_name": "HTMLModel",
            "placeholder": "​",
            "_view_module": "@jupyter-widgets/controls",
            "_model_module_version": "1.5.0",
            "value": "8192it [00:00, 115114.17it/s]",
            "_view_count": null,
            "_view_module_version": "1.5.0",
            "description_tooltip": null,
            "_model_module": "@jupyter-widgets/controls",
            "layout": "IPY_MODEL_87bd2cd6fee34a468422384dabf60130"
          }
        },
        "71c15ab0002c49c1b05d0d5d9a0079fb": {
          "model_module": "@jupyter-widgets/controls",
          "model_name": "ProgressStyleModel",
          "state": {
            "_view_name": "StyleView",
            "_model_name": "ProgressStyleModel",
            "description_width": "",
            "_view_module": "@jupyter-widgets/base",
            "_model_module_version": "1.5.0",
            "_view_count": null,
            "_view_module_version": "1.2.0",
            "bar_color": null,
            "_model_module": "@jupyter-widgets/controls"
          }
        },
        "226a0fdc85e44ddeb3e5e51238dc186e": {
          "model_module": "@jupyter-widgets/base",
          "model_name": "LayoutModel",
          "state": {
            "_view_name": "LayoutView",
            "grid_template_rows": null,
            "right": null,
            "justify_content": null,
            "_view_module": "@jupyter-widgets/base",
            "overflow": null,
            "_model_module_version": "1.2.0",
            "_view_count": null,
            "flex_flow": null,
            "width": null,
            "min_width": null,
            "border": null,
            "align_items": null,
            "bottom": null,
            "_model_module": "@jupyter-widgets/base",
            "top": null,
            "grid_column": null,
            "overflow_y": null,
            "overflow_x": null,
            "grid_auto_flow": null,
            "grid_area": null,
            "grid_template_columns": null,
            "flex": null,
            "_model_name": "LayoutModel",
            "justify_items": null,
            "grid_row": null,
            "max_height": null,
            "align_content": null,
            "visibility": null,
            "align_self": null,
            "height": null,
            "min_height": null,
            "padding": null,
            "grid_auto_rows": null,
            "grid_gap": null,
            "max_width": null,
            "order": null,
            "_view_module_version": "1.2.0",
            "grid_template_areas": null,
            "object_position": null,
            "object_fit": null,
            "grid_auto_columns": null,
            "margin": null,
            "display": null,
            "left": null
          }
        },
        "f2379b41023d427dadcbb0df444b44a0": {
          "model_module": "@jupyter-widgets/controls",
          "model_name": "DescriptionStyleModel",
          "state": {
            "_view_name": "StyleView",
            "_model_name": "DescriptionStyleModel",
            "description_width": "",
            "_view_module": "@jupyter-widgets/base",
            "_model_module_version": "1.5.0",
            "_view_count": null,
            "_view_module_version": "1.2.0",
            "_model_module": "@jupyter-widgets/controls"
          }
        },
        "87bd2cd6fee34a468422384dabf60130": {
          "model_module": "@jupyter-widgets/base",
          "model_name": "LayoutModel",
          "state": {
            "_view_name": "LayoutView",
            "grid_template_rows": null,
            "right": null,
            "justify_content": null,
            "_view_module": "@jupyter-widgets/base",
            "overflow": null,
            "_model_module_version": "1.2.0",
            "_view_count": null,
            "flex_flow": null,
            "width": null,
            "min_width": null,
            "border": null,
            "align_items": null,
            "bottom": null,
            "_model_module": "@jupyter-widgets/base",
            "top": null,
            "grid_column": null,
            "overflow_y": null,
            "overflow_x": null,
            "grid_auto_flow": null,
            "grid_area": null,
            "grid_template_columns": null,
            "flex": null,
            "_model_name": "LayoutModel",
            "justify_items": null,
            "grid_row": null,
            "max_height": null,
            "align_content": null,
            "visibility": null,
            "align_self": null,
            "height": null,
            "min_height": null,
            "padding": null,
            "grid_auto_rows": null,
            "grid_gap": null,
            "max_width": null,
            "order": null,
            "_view_module_version": "1.2.0",
            "grid_template_areas": null,
            "object_position": null,
            "object_fit": null,
            "grid_auto_columns": null,
            "margin": null,
            "display": null,
            "left": null
          }
        }
      }
    }
  },
  "cells": [
    {
      "cell_type": "code",
      "metadata": {
        "id": "Vqtc3HciiPpq",
        "colab_type": "code",
        "colab": {}
      },
      "source": [
        "# prerequisites\n",
        "import torch\n",
        "import torch.nn as nn\n",
        "import torch.nn.functional as F\n",
        "import torch.optim as optim\n",
        "from torchvision import datasets, transforms\n",
        "from torch.autograd import Variable\n",
        "from torchvision.utils import save_image\n",
        "\n",
        "# Device configuration\n",
        "device = torch.device('cuda' if torch.cuda.is_available() else 'cpu')"
      ],
      "execution_count": 0,
      "outputs": []
    },
    {
      "cell_type": "code",
      "metadata": {
        "id": "J0iSxKDgiPp1",
        "colab_type": "code",
        "colab": {
          "base_uri": "https://localhost:8080/",
          "height": 383,
          "referenced_widgets": [
            "2a1905552f7e4defa8a71ccc8569afce",
            "c95b34ec8b394b9a96f91e81e72e9f16",
            "e3a4e81ec75a453ebd96aa5643f775d7",
            "070da0665edf486181b6c4d30011806a",
            "b2f5615037534232bfe4b8129c46cabc",
            "5716974a0a634ccfa10f6405b7cc5217",
            "b41efaa1c4334e1aa3edce0a4285e569",
            "20d1a9b2d29549c2bec9b1f0f52cbe96",
            "055dfe302fba40529deb226f6b2aca94",
            "3475bf4c670846a3b19051cda69ac3e0",
            "b49e0270520242bfa8d80ab3cfff601f",
            "081448dcf76f417a960f719b8e660fc0",
            "1e255270d99a45209af5bfcfaa8c62e7",
            "e04da945f1c4494988b55c5451a12114",
            "aacb47d4de074c31ab0e9a64c8188a66",
            "144a72fc9d704a948a43fbab6599b991",
            "8069423839304f89b74c91ccffa5aa7b",
            "416b1e70b10d4a69888395d89d55e1dc",
            "af8bae5bb7ce41c78eb97f97d137e8ea",
            "3002d7ff5d9a4101b0935e96a31a52b8",
            "28833b4f31764209bc08da770135c0bc",
            "ae5b99ccceda4ba7af19c4e2e00dcae3",
            "f4dc9d34f7444749b0204b5e34d1d781",
            "e125f8c2b83a43fe820d0dfdd404e0d6",
            "57b4d565c44f466bbc45da389d203293",
            "d9b47e727cfd4f77922ab06fb59557e6",
            "ae127cc6c8b9485cb456bb2c61026ec5",
            "991910d5919a478fbd2b1d23c27250f7",
            "71c15ab0002c49c1b05d0d5d9a0079fb",
            "226a0fdc85e44ddeb3e5e51238dc186e",
            "f2379b41023d427dadcbb0df444b44a0",
            "87bd2cd6fee34a468422384dabf60130"
          ]
        },
        "outputId": "b38ca97f-7146-4ff4-c69a-bc1a02f4d2fd"
      },
      "source": [
        "bs = 100\n",
        "\n",
        "# MNIST Dataset\n",
        "transform = transforms.Compose([\n",
        "    transforms.ToTensor(),\n",
        "    transforms.Normalize((0.5,), (0.5,))])\n",
        "\n",
        "train_dataset = datasets.MNIST(root='./mnist_data/', train=True, transform=transform, download=True)\n",
        "test_dataset = datasets.MNIST(root='./mnist_data/', train=False, transform=transform, download=False)\n",
        "\n",
        "# Data Loader (Input Pipeline)\n",
        "train_loader = torch.utils.data.DataLoader(dataset=train_dataset, batch_size=bs, shuffle=True)\n",
        "test_loader = torch.utils.data.DataLoader(dataset=test_dataset, batch_size=bs, shuffle=False)"
      ],
      "execution_count": 3,
      "outputs": [
        {
          "output_type": "stream",
          "text": [
            "Downloading http://yann.lecun.com/exdb/mnist/train-images-idx3-ubyte.gz to ./mnist_data/MNIST/raw/train-images-idx3-ubyte.gz\n"
          ],
          "name": "stdout"
        },
        {
          "output_type": "display_data",
          "data": {
            "application/vnd.jupyter.widget-view+json": {
              "model_id": "2a1905552f7e4defa8a71ccc8569afce",
              "version_minor": 0,
              "version_major": 2
            },
            "text/plain": [
              "HBox(children=(IntProgress(value=1, bar_style='info', max=1), HTML(value='')))"
            ]
          },
          "metadata": {
            "tags": []
          }
        },
        {
          "output_type": "stream",
          "text": [
            "\n",
            "Extracting ./mnist_data/MNIST/raw/train-images-idx3-ubyte.gz to ./mnist_data/MNIST/raw\n",
            "Downloading http://yann.lecun.com/exdb/mnist/train-labels-idx1-ubyte.gz to ./mnist_data/MNIST/raw/train-labels-idx1-ubyte.gz\n"
          ],
          "name": "stdout"
        },
        {
          "output_type": "display_data",
          "data": {
            "application/vnd.jupyter.widget-view+json": {
              "model_id": "055dfe302fba40529deb226f6b2aca94",
              "version_minor": 0,
              "version_major": 2
            },
            "text/plain": [
              "HBox(children=(IntProgress(value=1, bar_style='info', max=1), HTML(value='')))"
            ]
          },
          "metadata": {
            "tags": []
          }
        },
        {
          "output_type": "stream",
          "text": [
            "\n",
            "Extracting ./mnist_data/MNIST/raw/train-labels-idx1-ubyte.gz to ./mnist_data/MNIST/raw\n",
            "Downloading http://yann.lecun.com/exdb/mnist/t10k-images-idx3-ubyte.gz to ./mnist_data/MNIST/raw/t10k-images-idx3-ubyte.gz\n"
          ],
          "name": "stdout"
        },
        {
          "output_type": "display_data",
          "data": {
            "application/vnd.jupyter.widget-view+json": {
              "model_id": "8069423839304f89b74c91ccffa5aa7b",
              "version_minor": 0,
              "version_major": 2
            },
            "text/plain": [
              "HBox(children=(IntProgress(value=1, bar_style='info', max=1), HTML(value='')))"
            ]
          },
          "metadata": {
            "tags": []
          }
        },
        {
          "output_type": "stream",
          "text": [
            "\n",
            "Extracting ./mnist_data/MNIST/raw/t10k-images-idx3-ubyte.gz to ./mnist_data/MNIST/raw\n",
            "Downloading http://yann.lecun.com/exdb/mnist/t10k-labels-idx1-ubyte.gz to ./mnist_data/MNIST/raw/t10k-labels-idx1-ubyte.gz\n"
          ],
          "name": "stdout"
        },
        {
          "output_type": "display_data",
          "data": {
            "application/vnd.jupyter.widget-view+json": {
              "model_id": "57b4d565c44f466bbc45da389d203293",
              "version_minor": 0,
              "version_major": 2
            },
            "text/plain": [
              "HBox(children=(IntProgress(value=1, bar_style='info', max=1), HTML(value='')))"
            ]
          },
          "metadata": {
            "tags": []
          }
        },
        {
          "output_type": "stream",
          "text": [
            "\n",
            "Extracting ./mnist_data/MNIST/raw/t10k-labels-idx1-ubyte.gz to ./mnist_data/MNIST/raw\n",
            "Processing...\n",
            "Done!\n"
          ],
          "name": "stdout"
        }
      ]
    },
    {
      "cell_type": "code",
      "metadata": {
        "id": "ORsgU3eeiPp9",
        "colab_type": "code",
        "colab": {}
      },
      "source": [
        "class Generator(nn.Module):\n",
        "    def __init__(self, g_input_dim, g_output_dim):\n",
        "        super(Generator, self).__init__()       \n",
        "        self.fc1 = nn.Linear(g_input_dim, 256)\n",
        "        self.fc2 = nn.Linear(self.fc1.out_features, self.fc1.out_features*2)\n",
        "        self.fc3 = nn.Linear(self.fc2.out_features, self.fc2.out_features*2)\n",
        "        self.fc4 = nn.Linear(self.fc3.out_features, g_output_dim)\n",
        "    \n",
        "    # forward method\n",
        "    def forward(self, x): \n",
        "        x = F.leaky_relu(self.fc1(x), 0.2)\n",
        "        x = F.leaky_relu(self.fc2(x), 0.2)\n",
        "        x = F.leaky_relu(self.fc3(x), 0.2)\n",
        "        return torch.tanh(self.fc4(x))\n",
        "    \n",
        "class Discriminator(nn.Module):\n",
        "    def __init__(self, d_input_dim):\n",
        "        super(Discriminator, self).__init__()\n",
        "        self.fc1 = nn.Linear(d_input_dim, 1024)\n",
        "        self.fc2 = nn.Linear(self.fc1.out_features, self.fc1.out_features//2)\n",
        "        self.fc3 = nn.Linear(self.fc2.out_features, self.fc2.out_features//2)\n",
        "        self.fc4 = nn.Linear(self.fc3.out_features, 1)\n",
        "    \n",
        "    # forward method\n",
        "    def forward(self, x):\n",
        "        x = F.leaky_relu(self.fc1(x), 0.2)\n",
        "        x = F.dropout(x, 0.3)\n",
        "        x = F.leaky_relu(self.fc2(x), 0.2)\n",
        "        x = F.dropout(x, 0.3)\n",
        "        x = F.leaky_relu(self.fc3(x), 0.2)\n",
        "        x = F.dropout(x, 0.3)\n",
        "        return torch.sigmoid(self.fc4(x))"
      ],
      "execution_count": 0,
      "outputs": []
    },
    {
      "cell_type": "code",
      "metadata": {
        "id": "73BzuFuliPqE",
        "colab_type": "code",
        "colab": {
          "base_uri": "https://localhost:8080/",
          "height": 51
        },
        "outputId": "2a9a7b13-6b46-4585-9147-c33facd5bcea"
      },
      "source": [
        "# build network\n",
        "z_dim = 100\n",
        "mnist_dim = train_dataset.train_data.size(1) * train_dataset.train_data.size(2)\n",
        "\n",
        "G = Generator(g_input_dim = z_dim, g_output_dim = mnist_dim).to(device)\n",
        "D = Discriminator(mnist_dim).to(device)"
      ],
      "execution_count": 5,
      "outputs": [
        {
          "output_type": "stream",
          "text": [
            "/usr/local/lib/python3.6/dist-packages/torchvision/datasets/mnist.py:55: UserWarning: train_data has been renamed data\n",
            "  warnings.warn(\"train_data has been renamed data\")\n"
          ],
          "name": "stderr"
        }
      ]
    },
    {
      "cell_type": "code",
      "metadata": {
        "id": "0GJ5nrWKiPqN",
        "colab_type": "code",
        "colab": {
          "base_uri": "https://localhost:8080/",
          "height": 119
        },
        "outputId": "14a0f299-5b0d-4fac-cdb8-4adfc08c4351"
      },
      "source": [
        "G"
      ],
      "execution_count": 6,
      "outputs": [
        {
          "output_type": "execute_result",
          "data": {
            "text/plain": [
              "Generator(\n",
              "  (fc1): Linear(in_features=100, out_features=256, bias=True)\n",
              "  (fc2): Linear(in_features=256, out_features=512, bias=True)\n",
              "  (fc3): Linear(in_features=512, out_features=1024, bias=True)\n",
              "  (fc4): Linear(in_features=1024, out_features=784, bias=True)\n",
              ")"
            ]
          },
          "metadata": {
            "tags": []
          },
          "execution_count": 6
        }
      ]
    },
    {
      "cell_type": "code",
      "metadata": {
        "id": "yJVdJj0DiPqW",
        "colab_type": "code",
        "colab": {
          "base_uri": "https://localhost:8080/",
          "height": 119
        },
        "outputId": "652d7092-2644-4199-8b4e-b9fa2cec8734"
      },
      "source": [
        "D"
      ],
      "execution_count": 7,
      "outputs": [
        {
          "output_type": "execute_result",
          "data": {
            "text/plain": [
              "Discriminator(\n",
              "  (fc1): Linear(in_features=784, out_features=1024, bias=True)\n",
              "  (fc2): Linear(in_features=1024, out_features=512, bias=True)\n",
              "  (fc3): Linear(in_features=512, out_features=256, bias=True)\n",
              "  (fc4): Linear(in_features=256, out_features=1, bias=True)\n",
              ")"
            ]
          },
          "metadata": {
            "tags": []
          },
          "execution_count": 7
        }
      ]
    },
    {
      "cell_type": "code",
      "metadata": {
        "id": "t1TDth8ZiPqe",
        "colab_type": "code",
        "colab": {}
      },
      "source": [
        "# loss\n",
        "criterion = nn.BCELoss() \n",
        "\n",
        "# optimizer\n",
        "lr = 0.0002 \n",
        "G_optimizer = optim.Adam(G.parameters(), lr = lr)\n",
        "D_optimizer = optim.Adam(D.parameters(), lr = lr)"
      ],
      "execution_count": 0,
      "outputs": []
    },
    {
      "cell_type": "code",
      "metadata": {
        "id": "S3XZTe-OiPqm",
        "colab_type": "code",
        "colab": {}
      },
      "source": [
        "def D_train(x):\n",
        "    #=======================Train the discriminator=======================#\n",
        "    D.zero_grad()\n",
        "\n",
        "    # train discriminator on real\n",
        "    x_real, y_real = x.view(-1, mnist_dim), torch.ones(bs, 1)\n",
        "    x_real, y_real = Variable(x_real.to(device)), Variable(y_real.to(device))\n",
        "\n",
        "    D_output = D(x_real)\n",
        "    D_real_loss = criterion(D_output, y_real)\n",
        "    D_real_score = D_output\n",
        "\n",
        "    # train discriminator on facke\n",
        "    z = Variable(torch.randn(bs, z_dim).to(device))\n",
        "    x_fake, y_fake = G(z), Variable(torch.zeros(bs, 1).to(device))\n",
        "\n",
        "    D_output = D(x_fake)\n",
        "    D_fake_loss = criterion(D_output, y_fake)\n",
        "    D_fake_score = D_output\n",
        "\n",
        "    # gradient backprop & optimize ONLY D's parameters\n",
        "    D_loss = D_real_loss + D_fake_loss\n",
        "    D_loss.backward()\n",
        "    D_optimizer.step()\n",
        "        \n",
        "    return  D_loss.data.item()"
      ],
      "execution_count": 0,
      "outputs": []
    },
    {
      "cell_type": "code",
      "metadata": {
        "id": "3Wb864o9iPqw",
        "colab_type": "code",
        "colab": {}
      },
      "source": [
        "def G_train(x):\n",
        "    #=======================Train the generator=======================#\n",
        "    G.zero_grad()\n",
        "\n",
        "    z = Variable(torch.randn(bs, z_dim).to(device))\n",
        "    y = Variable(torch.ones(bs, 1).to(device))\n",
        "\n",
        "    G_output = G(z)\n",
        "    D_output = D(G_output)\n",
        "    G_loss = criterion(D_output, y)\n",
        "\n",
        "    # gradient backprop & optimize ONLY G's parameters\n",
        "    G_loss.backward()\n",
        "    G_optimizer.step()\n",
        "        \n",
        "    return G_loss.data.item()"
      ],
      "execution_count": 0,
      "outputs": []
    },
    {
      "cell_type": "code",
      "metadata": {
        "scrolled": true,
        "id": "k7sscH5HiPq3",
        "colab_type": "code",
        "colab": {
          "base_uri": "https://localhost:8080/",
          "height": 1000
        },
        "outputId": "cb849461-1b47-4a57-d669-368a0e46e45f"
      },
      "source": [
        "n_epoch = 200\n",
        "for epoch in range(1, n_epoch+1):           \n",
        "    D_losses, G_losses = [], []\n",
        "    for batch_idx, (x, _) in enumerate(train_loader):\n",
        "        D_losses.append(D_train(x))\n",
        "        G_losses.append(G_train(x))\n",
        "\n",
        "    print('[%d/%d]: loss_d: %.3f, loss_g: %.3f' % (\n",
        "            (epoch), n_epoch, torch.mean(torch.FloatTensor(D_losses)), torch.mean(torch.FloatTensor(G_losses))))"
      ],
      "execution_count": 11,
      "outputs": [
        {
          "output_type": "stream",
          "text": [
            "[1/200]: loss_d: 0.930, loss_g: 3.127\n",
            "[2/200]: loss_d: 1.112, loss_g: 1.539\n",
            "[3/200]: loss_d: 0.968, loss_g: 1.883\n",
            "[4/200]: loss_d: 0.621, loss_g: 2.783\n",
            "[5/200]: loss_d: 0.523, loss_g: 2.944\n",
            "[6/200]: loss_d: 0.505, loss_g: 2.818\n",
            "[7/200]: loss_d: 0.526, loss_g: 2.857\n",
            "[8/200]: loss_d: 0.582, loss_g: 2.586\n",
            "[9/200]: loss_d: 0.602, loss_g: 2.571\n",
            "[10/200]: loss_d: 0.582, loss_g: 2.673\n",
            "[11/200]: loss_d: 0.598, loss_g: 2.521\n",
            "[12/200]: loss_d: 0.663, loss_g: 2.293\n",
            "[13/200]: loss_d: 0.744, loss_g: 2.011\n",
            "[14/200]: loss_d: 0.733, loss_g: 2.029\n",
            "[15/200]: loss_d: 0.788, loss_g: 1.925\n",
            "[16/200]: loss_d: 0.803, loss_g: 1.895\n",
            "[17/200]: loss_d: 0.817, loss_g: 1.845\n",
            "[18/200]: loss_d: 0.825, loss_g: 1.791\n",
            "[19/200]: loss_d: 0.863, loss_g: 1.708\n",
            "[20/200]: loss_d: 0.948, loss_g: 1.527\n",
            "[21/200]: loss_d: 0.906, loss_g: 1.619\n",
            "[22/200]: loss_d: 0.912, loss_g: 1.597\n",
            "[23/200]: loss_d: 0.929, loss_g: 1.575\n",
            "[24/200]: loss_d: 0.897, loss_g: 1.664\n",
            "[25/200]: loss_d: 0.924, loss_g: 1.605\n",
            "[26/200]: loss_d: 0.944, loss_g: 1.551\n",
            "[27/200]: loss_d: 0.977, loss_g: 1.466\n",
            "[28/200]: loss_d: 0.997, loss_g: 1.437\n",
            "[29/200]: loss_d: 0.997, loss_g: 1.407\n",
            "[30/200]: loss_d: 1.010, loss_g: 1.379\n",
            "[31/200]: loss_d: 1.021, loss_g: 1.358\n",
            "[32/200]: loss_d: 1.025, loss_g: 1.360\n",
            "[33/200]: loss_d: 1.041, loss_g: 1.338\n",
            "[34/200]: loss_d: 1.054, loss_g: 1.309\n",
            "[35/200]: loss_d: 1.065, loss_g: 1.274\n",
            "[36/200]: loss_d: 1.069, loss_g: 1.272\n",
            "[37/200]: loss_d: 1.079, loss_g: 1.245\n",
            "[38/200]: loss_d: 1.093, loss_g: 1.236\n",
            "[39/200]: loss_d: 1.090, loss_g: 1.226\n",
            "[40/200]: loss_d: 1.103, loss_g: 1.196\n",
            "[41/200]: loss_d: 1.109, loss_g: 1.202\n",
            "[42/200]: loss_d: 1.088, loss_g: 1.238\n",
            "[43/200]: loss_d: 1.110, loss_g: 1.190\n",
            "[44/200]: loss_d: 1.121, loss_g: 1.180\n",
            "[45/200]: loss_d: 1.145, loss_g: 1.114\n",
            "[46/200]: loss_d: 1.152, loss_g: 1.094\n",
            "[47/200]: loss_d: 1.157, loss_g: 1.122\n",
            "[48/200]: loss_d: 1.158, loss_g: 1.100\n",
            "[49/200]: loss_d: 1.160, loss_g: 1.092\n",
            "[50/200]: loss_d: 1.175, loss_g: 1.073\n",
            "[51/200]: loss_d: 1.164, loss_g: 1.089\n",
            "[52/200]: loss_d: 1.167, loss_g: 1.086\n",
            "[53/200]: loss_d: 1.180, loss_g: 1.065\n",
            "[54/200]: loss_d: 1.183, loss_g: 1.056\n",
            "[55/200]: loss_d: 1.164, loss_g: 1.102\n",
            "[56/200]: loss_d: 1.174, loss_g: 1.078\n",
            "[57/200]: loss_d: 1.191, loss_g: 1.040\n",
            "[58/200]: loss_d: 1.195, loss_g: 1.034\n",
            "[59/200]: loss_d: 1.197, loss_g: 1.029\n",
            "[60/200]: loss_d: 1.202, loss_g: 1.027\n",
            "[61/200]: loss_d: 1.194, loss_g: 1.048\n",
            "[62/200]: loss_d: 1.193, loss_g: 1.041\n",
            "[63/200]: loss_d: 1.200, loss_g: 1.035\n",
            "[64/200]: loss_d: 1.205, loss_g: 1.018\n",
            "[65/200]: loss_d: 1.211, loss_g: 1.008\n",
            "[66/200]: loss_d: 1.207, loss_g: 1.021\n",
            "[67/200]: loss_d: 1.206, loss_g: 1.019\n",
            "[68/200]: loss_d: 1.208, loss_g: 1.018\n",
            "[69/200]: loss_d: 1.220, loss_g: 1.005\n",
            "[70/200]: loss_d: 1.211, loss_g: 1.012\n",
            "[71/200]: loss_d: 1.218, loss_g: 0.986\n",
            "[72/200]: loss_d: 1.221, loss_g: 0.987\n",
            "[73/200]: loss_d: 1.217, loss_g: 1.009\n",
            "[74/200]: loss_d: 1.216, loss_g: 0.997\n",
            "[75/200]: loss_d: 1.230, loss_g: 0.974\n",
            "[76/200]: loss_d: 1.223, loss_g: 0.987\n",
            "[77/200]: loss_d: 1.226, loss_g: 0.977\n",
            "[78/200]: loss_d: 1.227, loss_g: 0.979\n",
            "[79/200]: loss_d: 1.234, loss_g: 0.976\n",
            "[80/200]: loss_d: 1.236, loss_g: 0.964\n",
            "[81/200]: loss_d: 1.239, loss_g: 0.966\n",
            "[82/200]: loss_d: 1.228, loss_g: 0.987\n",
            "[83/200]: loss_d: 1.225, loss_g: 0.978\n",
            "[84/200]: loss_d: 1.232, loss_g: 0.980\n",
            "[85/200]: loss_d: 1.238, loss_g: 0.960\n",
            "[86/200]: loss_d: 1.231, loss_g: 0.971\n",
            "[87/200]: loss_d: 1.241, loss_g: 0.955\n",
            "[88/200]: loss_d: 1.247, loss_g: 0.948\n",
            "[89/200]: loss_d: 1.242, loss_g: 0.973\n",
            "[90/200]: loss_d: 1.241, loss_g: 0.956\n",
            "[91/200]: loss_d: 1.238, loss_g: 0.967\n",
            "[92/200]: loss_d: 1.244, loss_g: 0.942\n",
            "[93/200]: loss_d: 1.249, loss_g: 0.947\n",
            "[94/200]: loss_d: 1.248, loss_g: 0.951\n",
            "[95/200]: loss_d: 1.245, loss_g: 0.944\n",
            "[96/200]: loss_d: 1.255, loss_g: 0.932\n",
            "[97/200]: loss_d: 1.250, loss_g: 0.931\n",
            "[98/200]: loss_d: 1.259, loss_g: 0.942\n",
            "[99/200]: loss_d: 1.247, loss_g: 0.954\n",
            "[100/200]: loss_d: 1.254, loss_g: 0.939\n",
            "[101/200]: loss_d: 1.264, loss_g: 0.914\n",
            "[102/200]: loss_d: 1.263, loss_g: 0.930\n",
            "[103/200]: loss_d: 1.255, loss_g: 0.939\n",
            "[104/200]: loss_d: 1.253, loss_g: 0.942\n",
            "[105/200]: loss_d: 1.257, loss_g: 0.944\n",
            "[106/200]: loss_d: 1.251, loss_g: 0.929\n",
            "[107/200]: loss_d: 1.272, loss_g: 0.901\n",
            "[108/200]: loss_d: 1.266, loss_g: 0.922\n",
            "[109/200]: loss_d: 1.256, loss_g: 0.937\n",
            "[110/200]: loss_d: 1.265, loss_g: 0.922\n",
            "[111/200]: loss_d: 1.262, loss_g: 0.925\n",
            "[112/200]: loss_d: 1.264, loss_g: 0.927\n",
            "[113/200]: loss_d: 1.257, loss_g: 0.936\n",
            "[114/200]: loss_d: 1.262, loss_g: 0.920\n",
            "[115/200]: loss_d: 1.262, loss_g: 0.920\n",
            "[116/200]: loss_d: 1.264, loss_g: 0.912\n",
            "[117/200]: loss_d: 1.267, loss_g: 0.919\n",
            "[118/200]: loss_d: 1.270, loss_g: 0.916\n",
            "[119/200]: loss_d: 1.261, loss_g: 0.935\n",
            "[120/200]: loss_d: 1.262, loss_g: 0.925\n",
            "[121/200]: loss_d: 1.265, loss_g: 0.919\n",
            "[122/200]: loss_d: 1.270, loss_g: 0.914\n",
            "[123/200]: loss_d: 1.276, loss_g: 0.903\n",
            "[124/200]: loss_d: 1.277, loss_g: 0.895\n",
            "[125/200]: loss_d: 1.271, loss_g: 0.906\n",
            "[126/200]: loss_d: 1.266, loss_g: 0.920\n",
            "[127/200]: loss_d: 1.270, loss_g: 0.913\n",
            "[128/200]: loss_d: 1.276, loss_g: 0.901\n",
            "[129/200]: loss_d: 1.274, loss_g: 0.902\n",
            "[130/200]: loss_d: 1.273, loss_g: 0.910\n",
            "[131/200]: loss_d: 1.262, loss_g: 0.927\n",
            "[132/200]: loss_d: 1.270, loss_g: 0.909\n",
            "[133/200]: loss_d: 1.272, loss_g: 0.905\n",
            "[134/200]: loss_d: 1.281, loss_g: 0.888\n",
            "[135/200]: loss_d: 1.282, loss_g: 0.918\n",
            "[136/200]: loss_d: 1.271, loss_g: 0.908\n",
            "[137/200]: loss_d: 1.273, loss_g: 0.904\n",
            "[138/200]: loss_d: 1.272, loss_g: 0.908\n",
            "[139/200]: loss_d: 1.275, loss_g: 0.904\n",
            "[140/200]: loss_d: 1.279, loss_g: 0.891\n",
            "[141/200]: loss_d: 1.275, loss_g: 0.903\n",
            "[142/200]: loss_d: 1.272, loss_g: 0.906\n",
            "[143/200]: loss_d: 1.274, loss_g: 0.900\n",
            "[144/200]: loss_d: 1.270, loss_g: 0.908\n",
            "[145/200]: loss_d: 1.271, loss_g: 0.908\n",
            "[146/200]: loss_d: 1.269, loss_g: 0.911\n",
            "[147/200]: loss_d: 1.271, loss_g: 0.906\n",
            "[148/200]: loss_d: 1.265, loss_g: 0.908\n",
            "[149/200]: loss_d: 1.274, loss_g: 0.900\n",
            "[150/200]: loss_d: 1.276, loss_g: 0.895\n",
            "[151/200]: loss_d: 1.273, loss_g: 0.904\n",
            "[152/200]: loss_d: 1.280, loss_g: 0.880\n",
            "[153/200]: loss_d: 1.273, loss_g: 0.899\n",
            "[154/200]: loss_d: 1.274, loss_g: 0.907\n",
            "[155/200]: loss_d: 1.271, loss_g: 0.906\n",
            "[156/200]: loss_d: 1.275, loss_g: 0.899\n",
            "[157/200]: loss_d: 1.275, loss_g: 0.901\n",
            "[158/200]: loss_d: 1.280, loss_g: 0.892\n",
            "[159/200]: loss_d: 1.283, loss_g: 0.889\n",
            "[160/200]: loss_d: 1.278, loss_g: 0.882\n",
            "[161/200]: loss_d: 1.287, loss_g: 0.883\n",
            "[162/200]: loss_d: 1.277, loss_g: 0.889\n",
            "[163/200]: loss_d: 1.280, loss_g: 0.891\n",
            "[164/200]: loss_d: 1.274, loss_g: 0.898\n",
            "[165/200]: loss_d: 1.280, loss_g: 0.897\n",
            "[166/200]: loss_d: 1.278, loss_g: 0.903\n",
            "[167/200]: loss_d: 1.280, loss_g: 0.881\n",
            "[168/200]: loss_d: 1.284, loss_g: 0.884\n",
            "[169/200]: loss_d: 1.282, loss_g: 0.890\n",
            "[170/200]: loss_d: 1.275, loss_g: 0.902\n",
            "[171/200]: loss_d: 1.280, loss_g: 0.888\n",
            "[172/200]: loss_d: 1.283, loss_g: 0.889\n",
            "[173/200]: loss_d: 1.279, loss_g: 0.889\n",
            "[174/200]: loss_d: 1.273, loss_g: 0.896\n",
            "[175/200]: loss_d: 1.282, loss_g: 0.893\n",
            "[176/200]: loss_d: 1.276, loss_g: 0.895\n",
            "[177/200]: loss_d: 1.285, loss_g: 0.883\n",
            "[178/200]: loss_d: 1.284, loss_g: 0.887\n",
            "[179/200]: loss_d: 1.281, loss_g: 0.886\n",
            "[180/200]: loss_d: 1.278, loss_g: 0.893\n",
            "[181/200]: loss_d: 1.277, loss_g: 0.901\n",
            "[182/200]: loss_d: 1.285, loss_g: 0.879\n",
            "[183/200]: loss_d: 1.284, loss_g: 0.874\n",
            "[184/200]: loss_d: 1.283, loss_g: 0.886\n",
            "[185/200]: loss_d: 1.285, loss_g: 0.881\n",
            "[186/200]: loss_d: 1.282, loss_g: 0.881\n",
            "[187/200]: loss_d: 1.278, loss_g: 0.891\n",
            "[188/200]: loss_d: 1.283, loss_g: 0.894\n",
            "[189/200]: loss_d: 1.287, loss_g: 0.871\n",
            "[190/200]: loss_d: 1.284, loss_g: 0.885\n",
            "[191/200]: loss_d: 1.287, loss_g: 0.883\n",
            "[192/200]: loss_d: 1.283, loss_g: 0.878\n",
            "[193/200]: loss_d: 1.285, loss_g: 0.882\n",
            "[194/200]: loss_d: 1.285, loss_g: 0.882\n",
            "[195/200]: loss_d: 1.288, loss_g: 0.870\n",
            "[196/200]: loss_d: 1.285, loss_g: 0.900\n",
            "[197/200]: loss_d: 1.274, loss_g: 0.905\n",
            "[198/200]: loss_d: 1.284, loss_g: 0.886\n",
            "[199/200]: loss_d: 1.280, loss_g: 0.882\n",
            "[200/200]: loss_d: 1.284, loss_g: 0.882\n"
          ],
          "name": "stdout"
        }
      ]
    },
    {
      "cell_type": "code",
      "metadata": {
        "id": "oG9Jy_Ayv7SJ",
        "colab_type": "code",
        "colab": {}
      },
      "source": [
        "%mkdir ./samples/\n",
        "%mkdir ./models/"
      ],
      "execution_count": 0,
      "outputs": []
    },
    {
      "cell_type": "code",
      "metadata": {
        "id": "vTLyoIvXiPq_",
        "colab_type": "code",
        "colab": {
          "base_uri": "https://localhost:8080/",
          "height": 105
        },
        "outputId": "d7375725-a344-4ddf-d3d1-171dc760f0ea"
      },
      "source": [
        "with torch.no_grad():\n",
        "    test_z = Variable(torch.randn(bs, z_dim).to(device))\n",
        "    generated = G(test_z)\n",
        "\n",
        "    save_image(generated.view(generated.size(0), 1, 28, 28), './samples/sample_' + '.png')\n",
        "\n",
        "torch.save(D, \"./models/model_d.bin\")\n",
        "torch.save(G, \"./models/model_g.bin\")"
      ],
      "execution_count": 13,
      "outputs": [
        {
          "output_type": "stream",
          "text": [
            "/usr/local/lib/python3.6/dist-packages/torch/serialization.py:360: UserWarning: Couldn't retrieve source code for container of type Discriminator. It won't be checked for correctness upon loading.\n",
            "  \"type \" + obj.__name__ + \". It won't be checked \"\n",
            "/usr/local/lib/python3.6/dist-packages/torch/serialization.py:360: UserWarning: Couldn't retrieve source code for container of type Generator. It won't be checked for correctness upon loading.\n",
            "  \"type \" + obj.__name__ + \". It won't be checked \"\n"
          ],
          "name": "stderr"
        }
      ]
    },
    {
      "cell_type": "code",
      "metadata": {
        "id": "r1xMwQTaiPrF",
        "colab_type": "code",
        "colab": {
          "base_uri": "https://localhost:8080/",
          "height": 269
        },
        "outputId": "cf403172-d060-4be3-e949-82ce09463420"
      },
      "source": [
        "# %ls ./samples/\n",
        "from PIL import Image\n",
        "import matplotlib.pyplot as plt\n",
        "img = Image.open('./samples/sample_' + '.png')\n",
        "imgplot = plt.imshow(img)\n"
      ],
      "execution_count": 14,
      "outputs": [
        {
          "output_type": "display_data",
          "data": {
            "image/png": "[encoded data removed]",
            "text/plain": [
              "<Figure size 432x288 with 1 Axes>"
            ]
          },
          "metadata": {
            "tags": []
          }
        }
      ]
    }
  ]
}