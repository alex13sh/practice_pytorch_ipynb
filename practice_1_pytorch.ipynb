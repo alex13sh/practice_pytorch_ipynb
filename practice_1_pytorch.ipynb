{
  "nbformat": 4,
  "nbformat_minor": 0,
  "metadata": {
    "colab": {
      "name": "practice_1_pytorch.ipynb",
      "provenance": [],
      "collapsed_sections": []
    },
    "kernelspec": {
      "name": "python3",
      "display_name": "Python 3"
    }
  },
  "cells": [
    {
      "cell_type": "code",
      "metadata": {
        "id": "8_t61jNCFJVl",
        "colab_type": "code",
        "colab": {}
      },
      "source": [
        "import numpy as np\n",
        "    \n",
        "# набор входных данных\n",
        "X = np.array([  [0,0,1],\n",
        "                [0,1,1],\n",
        "                [1,0,1],\n",
        "                [1,1,1] ])\n",
        "    \n",
        "# выходные данные            \n",
        "y = np.array([[0,0,1,1]]).T"
      ],
      "execution_count": 0,
      "outputs": []
    },
    {
      "cell_type": "code",
      "metadata": {
        "id": "XUhKUKpqFkx4",
        "colab_type": "code",
        "colab": {}
      },
      "source": [
        "import torch\n",
        "import torch.nn as nn\n",
        "import torch.optim as optim\n",
        "from torch.autograd import Variable\n",
        "from torch import FloatTensor"
      ],
      "execution_count": 0,
      "outputs": []
    },
    {
      "cell_type": "markdown",
      "metadata": {
        "id": "V6HADOguHG4S",
        "colab_type": "text"
      },
      "source": [
        "Создаём модель простого перцептрона, который состоит из одного полносвязанного слоя."
      ]
    },
    {
      "cell_type": "code",
      "metadata": {
        "id": "8V7iuHFjFlws",
        "colab_type": "code",
        "colab": {}
      },
      "source": [
        "class Perceptron(nn.Module):\n",
        "    def __init__(self):\n",
        "        super(Perceptron, self).__init__()\n",
        "        self.fc = nn.Linear(in_features=3, out_features=1)\n",
        "        #self.relu = nn.ReLU() #ReLU() # instead of Heaviside step fn\n",
        "        self.relu = nn.Sigmoid()\n",
        "    def forward(self, x):\n",
        "        x = self.fc(x)\n",
        "        x = self.relu(x) # instead of Heaviside step fn\n",
        "        return x"
      ],
      "execution_count": 0,
      "outputs": []
    },
    {
      "cell_type": "code",
      "metadata": {
        "id": "zUROZqCwFtv3",
        "colab_type": "code",
        "colab": {}
      },
      "source": [
        "model = Perceptron()\n",
        "criterion = torch.nn.BCELoss()\n",
        "optimizer = torch.optim.SGD(model.parameters(), lr = 0.01)\n",
        "\n",
        "x_train = Variable(FloatTensor(X)) #torch.from_numpy(X)\n",
        "y_train = Variable(FloatTensor(y), requires_grad=False) #torch.from_numpy(y)"
      ],
      "execution_count": 0,
      "outputs": []
    },
    {
      "cell_type": "markdown",
      "metadata": {
        "id": "alwOqVObH09q",
        "colab_type": "text"
      },
      "source": [
        "Цикл обучения состоит 10 тысяч эпох."
      ]
    },
    {
      "cell_type": "code",
      "metadata": {
        "id": "HzT_x_5WF0pT",
        "colab_type": "code",
        "colab": {
          "base_uri": "https://localhost:8080/",
          "height": 71
        },
        "outputId": "6193284b-b333-4125-d329-469d4ae142cb"
      },
      "source": [
        "model.train()\n",
        "epoch = 10000\n",
        "for epoch in range(epoch):\n",
        "    # Обнуляем градиент. Сбрасываем оптимизатор.\n",
        "    optimizer.zero_grad()\n",
        "    # Прямой проход\n",
        "    y_pred = model(x_train)\n",
        "    # Вычисляем ошибку\n",
        "    loss = criterion(y_pred.squeeze(), y_train)\n",
        "   \n",
        "    #print('Epoch {}: train loss: {}'.format(epoch, loss.item()))\n",
        "    # Обратный проход\n",
        "    loss.backward()\n",
        "    # Обновляем веса.\n",
        "    optimizer.step()"
      ],
      "execution_count": 13,
      "outputs": [
        {
          "output_type": "stream",
          "text": [
            "/usr/local/lib/python3.6/dist-packages/torch/nn/modules/loss.py:498: UserWarning: Using a target size (torch.Size([4, 1])) that is different to the input size (torch.Size([4])) is deprecated. Please ensure they have the same size.\n",
            "  return F.binary_cross_entropy(input, target, weight=self.weight, reduction=self.reduction)\n"
          ],
          "name": "stderr"
        }
      ]
    },
    {
      "cell_type": "code",
      "metadata": {
        "id": "pgOmAsJuF4Pe",
        "colab_type": "code",
        "colab": {
          "base_uri": "https://localhost:8080/",
          "height": 85
        },
        "outputId": "2003362b-01b7-4e03-ca56-2b56c943752a"
      },
      "source": [
        "print(\"pred:\", y_pred)"
      ],
      "execution_count": 14,
      "outputs": [
        {
          "output_type": "stream",
          "text": [
            "pred: tensor([[0.0568],\n",
            "        [0.0478],\n",
            "        [0.9616],\n",
            "        [0.9543]], grad_fn=<SigmoidBackward>)\n"
          ],
          "name": "stdout"
        }
      ]
    }
  ]
}