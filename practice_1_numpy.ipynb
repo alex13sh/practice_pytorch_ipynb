{
  "nbformat": 4,
  "nbformat_minor": 0,
  "metadata": {
    "colab": {
      "name": "practice_1_numpy.ipynb",
      "provenance": []
    },
    "kernelspec": {
      "name": "python3",
      "display_name": "Python 3"
    }
  },
  "cells": [
    {
      "cell_type": "code",
      "metadata": {
        "id": "cnhWEKTFBnGa",
        "colab_type": "code",
        "colab": {}
      },
      "source": [
        "# Нейросеть в 11 строчек на Python\n",
        "# https://habr.com/ru/post/271563/\n",
        "\n",
        "import numpy as np"
      ],
      "execution_count": 0,
      "outputs": []
    },
    {
      "cell_type": "code",
      "metadata": {
        "id": "o67Iq3OpBwzF",
        "colab_type": "code",
        "colab": {}
      },
      "source": [
        "# Сигмоида \n",
        "def nonlin(x,deriv=False):\n",
        "    if(deriv==True):\n",
        "        return nonlin(x)*(1-nonlin(x))\n",
        "    return 1/(1+np.exp(-x))"
      ],
      "execution_count": 0,
      "outputs": []
    },
    {
      "cell_type": "code",
      "metadata": {
        "id": "vPbYFe0qBxr2",
        "colab_type": "code",
        "colab": {}
      },
      "source": [
        "# набор входных данных\n",
        "X = np.array([  [0,0,1],\n",
        "                [0,1,1],\n",
        "                [1,0,1],\n",
        "                [1,1,1] ])\n",
        "    \n",
        "# выходные данные            \n",
        "y = np.array([[0,0,1,1]]).T"
      ],
      "execution_count": 0,
      "outputs": []
    },
    {
      "cell_type": "code",
      "metadata": {
        "id": "aFf_5ajbB2p5",
        "colab_type": "code",
        "colab": {}
      },
      "source": [
        "# сделаем случайные числа более определёнными\n",
        "np.random.seed(1)\n",
        "\n",
        "# инициализируем веса случайным образом со средним 0\n",
        "syn0 = 2*np.random.random((3,1)) - 1"
      ],
      "execution_count": 0,
      "outputs": []
    },
    {
      "cell_type": "code",
      "metadata": {
        "id": "ByHAFMrrB6Qw",
        "colab_type": "code",
        "colab": {}
      },
      "source": [
        "for iter in range(10000):\n",
        "\n",
        "    # прямое распространение\n",
        "    l0 = X\n",
        "    l1 = nonlin(np.dot(l0,syn0))\n",
        "\n",
        "    # насколько мы ошиблись?\n",
        "    l1_error = y - l1\n",
        "\n",
        "    # перемножим это с наклоном сигмоиды \n",
        "    # на основе значений в l1\n",
        "    l1_delta = l1_error * nonlin(l1,True) # !!!\n",
        "\n",
        "    # обновим веса\n",
        "    syn0 += np.dot(l0.T,l1_delta) # !!!"
      ],
      "execution_count": 0,
      "outputs": []
    },
    {
      "cell_type": "code",
      "metadata": {
        "id": "gJsbQu1xB8c6",
        "colab_type": "code",
        "colab": {
          "base_uri": "https://localhost:8080/",
          "height": 102
        },
        "outputId": "fe73a4e3-49ad-40ed-e6e4-8ae3bd8c3762"
      },
      "source": [
        "print(\"Выходные данные после тренировки:\")\n",
        "for elm in l1:\n",
        "    print('%.3f' % elm)"
      ],
      "execution_count": 6,
      "outputs": [
        {
          "output_type": "stream",
          "text": [
            "Выходные данные после тренировки:\n",
            "0.001\n",
            "0.000\n",
            "1.000\n",
            "0.999\n"
          ],
          "name": "stdout"
        }
      ]
    }
  ]
}